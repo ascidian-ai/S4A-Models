{
 "cells": [
  {
   "cell_type": "code",
   "execution_count": 20,
   "metadata": {
    "collapsed": true,
    "pycharm": {
     "name": "#%%\n"
    }
   },
   "outputs": [],
   "source": [
    "from datetime import datetime\n",
    "\n",
    "import matplotlib.pyplot as plt\n",
    "import torch\n",
    "import numpy as np\n",
    "from pathlib import Path\n",
    "\n",
    "from utils.settings.config import LINEAR_ENCODER, CROP_ENCODING\n",
    "num_discrete_labels = len(set(LINEAR_ENCODER.values()))\n",
    "\n",
    "def starttimer():\n",
    "    start = datetime.now()\n",
    "    print(f'{start.strftime(\"%Y-%m-%d %H:%M:%S\")}')\n",
    "    return start\n",
    "\n",
    "def endtimer(start):\n",
    "    end = datetime.now()\n",
    "    print(f'{end.strftime(\"%Y-%m-%d %H:%M:%S\")}')\n",
    "    durn = end - start\n",
    "    print(f'Duration: {durn.total_seconds()}s')\n",
    "    return end, durn"
   ]
  },
  {
   "cell_type": "code",
   "execution_count": 2,
   "outputs": [],
   "source": [
    "run_path = \"logs/unet/20220807233511/run_20220807233511/\"\n",
    "run_path = Path(run_path)\n",
    "\n",
    "testrun_path = Path(run_path / f'testrun_{datetime.now().strftime(\"%Y%m%d_%H%M%S\")}')\n",
    "testrun_path.mkdir(exist_ok=True, parents=True)"
   ],
   "metadata": {
    "collapsed": false,
    "pycharm": {
     "name": "#%%\n"
    }
   }
  },
  {
   "cell_type": "code",
   "execution_count": 3,
   "outputs": [
    {
     "name": "stdout",
     "output_type": "stream",
     "text": [
      "2022-08-25 14:53:40\n",
      "2022-08-25 14:57:27\n",
      "Duration: 227.184366s\n"
     ]
    }
   ],
   "source": [
    "confusion_matrix = torch.zeros([num_discrete_labels, num_discrete_labels])\n",
    "label = torch.randint(11, (833504,), dtype=torch.uint8, device='cuda')\n",
    "pred = torch.randint(11, (833504,), dtype=torch.uint8, device='cuda')\n",
    "s = starttimer()\n",
    "for i in range(label.shape[0]):\n",
    "    confusion_matrix[label[i], pred[i]] += 1\n",
    "e,d = endtimer(s)"
   ],
   "metadata": {
    "collapsed": false,
    "pycharm": {
     "name": "#%%\n"
    }
   }
  },
  {
   "cell_type": "code",
   "execution_count": 4,
   "outputs": [
    {
     "name": "stdout",
     "output_type": "stream",
     "text": [
      "2022-08-25 14:57:27\n",
      "2022-08-25 15:00:36\n",
      "Duration: 188.693071s\n"
     ]
    }
   ],
   "source": [
    "confusion_matrix = torch.zeros([num_discrete_labels, num_discrete_labels])\n",
    "label = torch.randint(11, (833504,), device='cuda')\n",
    "pred = torch.randint(11, (833504,), device='cuda')\n",
    "s = starttimer()\n",
    "for i in range(label.shape[0]):\n",
    "    confusion_matrix[label[i], pred[i]] += 1\n",
    "e,d = endtimer(s)"
   ],
   "metadata": {
    "collapsed": false,
    "pycharm": {
     "name": "#%%\n"
    }
   }
  },
  {
   "cell_type": "code",
   "execution_count": 5,
   "outputs": [
    {
     "name": "stdout",
     "output_type": "stream",
     "text": [
      "2022-08-25 15:00:36\n",
      "2022-08-25 15:01:24\n",
      "Duration: 47.71449s\n"
     ]
    }
   ],
   "source": [
    "confusion_matrix = torch.zeros([num_discrete_labels, num_discrete_labels])\n",
    "label = torch.randint(11, (833504,), dtype=torch.uint8, device='cpu')\n",
    "pred = torch.randint(11, (833504,), dtype=torch.uint8, device='cpu')\n",
    "s = starttimer()\n",
    "for i in range(label.shape[0]):\n",
    "    confusion_matrix[label[i], pred[i]] += 1\n",
    "e,d = endtimer(s)"
   ],
   "metadata": {
    "collapsed": false,
    "pycharm": {
     "name": "#%%\n"
    }
   }
  },
  {
   "cell_type": "code",
   "execution_count": 6,
   "outputs": [
    {
     "name": "stdout",
     "output_type": "stream",
     "text": [
      "2022-08-25 15:01:24\n",
      "2022-08-25 15:01:29\n",
      "Duration: 5.024363s\n"
     ]
    }
   ],
   "source": [
    "confusion_matrix = np.zeros([num_discrete_labels, num_discrete_labels])\n",
    "label = torch.randint(11, (833504,), device='cpu')\n",
    "pred = torch.randint(11, (833504,), device='cpu')\n",
    "s = starttimer()\n",
    "for i in range(label.shape[0]):\n",
    "    confusion_matrix[label[i], pred[i]] += 1\n",
    "e,d = endtimer(s)"
   ],
   "metadata": {
    "collapsed": false,
    "pycharm": {
     "name": "#%%\n"
    }
   }
  },
  {
   "cell_type": "code",
   "execution_count": 7,
   "outputs": [
    {
     "name": "stdout",
     "output_type": "stream",
     "text": [
      "2022-08-25 15:01:29\n",
      "2022-08-25 15:01:29\n",
      "Duration: 0.451002s\n"
     ]
    }
   ],
   "source": [
    "confusion_matrix = np.zeros([num_discrete_labels, num_discrete_labels])\n",
    "label = torch.randint(11, (224,61,61,)).cpu().detach().numpy().flatten()\n",
    "pred = torch.randint(11, (224,61,61,)).cpu().detach().numpy().flatten()\n",
    "s = starttimer()\n",
    "for i in range(label.shape[0]):\n",
    "    confusion_matrix[label[i], pred[i]] += 1\n",
    "e,d = endtimer(s)"
   ],
   "metadata": {
    "collapsed": false,
    "pycharm": {
     "name": "#%%\n"
    }
   }
  },
  {
   "cell_type": "code",
   "execution_count": 8,
   "outputs": [
    {
     "name": "stdout",
     "output_type": "stream",
     "text": [
      "2022-08-25 15:01:33\n",
      "2022-08-25 15:01:33\n",
      "Duration: 0.128999s\n"
     ]
    }
   ],
   "source": [
    "from sklearn.metrics import confusion_matrix\n",
    "cm = np.zeros([num_discrete_labels-1, num_discrete_labels-1])\n",
    "\n",
    "label = torch.randint(11, (224,61,61,)).flatten().cpu().detach()\n",
    "pred = torch.randint(11, (224,61,61,)).flatten().cpu().detach()\n",
    "\n",
    "s = starttimer()\n",
    "cm_delta = confusion_matrix(label, pred)\n",
    "cm = cm + cm_delta\n",
    "e,d = endtimer(s)"
   ],
   "metadata": {
    "collapsed": false,
    "pycharm": {
     "name": "#%%\n"
    }
   }
  },
  {
   "cell_type": "code",
   "execution_count": 9,
   "outputs": [
    {
     "name": "stdout",
     "output_type": "stream",
     "text": [
      "Dice Score\n",
      "[[0.08338793 0.08402985 0.08218687 0.08348095 0.08379845 0.08271375\n",
      "  0.08306189 0.08300261 0.08131944 0.08304838 0.08279964]\n",
      " [0.08331831 0.08404292 0.08245614 0.0823548  0.0834732  0.08327319\n",
      "  0.08336751 0.08413959 0.08428075 0.08172828 0.08249607]\n",
      " [0.08374235 0.08407332 0.0830284  0.08311868 0.08161706 0.08402939\n",
      "  0.08311137 0.08388375 0.08222433 0.08174383 0.08285455]\n",
      " [0.08357424 0.08195778 0.08470029 0.0838924  0.08507675 0.0816356\n",
      "  0.08352584 0.08247229 0.08245899 0.08163265 0.08360764]\n",
      " [0.08306613 0.08403604 0.08407713 0.08329131 0.08254001 0.08181962\n",
      "  0.08401705 0.08432618 0.08404692 0.08382379 0.08348818]\n",
      " [0.08375444 0.08405467 0.08326568 0.08214609 0.0850073  0.0838413\n",
      "  0.08367936 0.08358496 0.08480438 0.08360482 0.08251372]\n",
      " [0.0826805  0.08187539 0.08219218 0.08535796 0.08239873 0.08250315\n",
      "  0.08345667 0.08409053 0.08200019 0.08360995 0.08409499]\n",
      " [0.08337353 0.08487811 0.08294261 0.08384591 0.08343993 0.08312983\n",
      "  0.08281019 0.08257441 0.08249691 0.08398969 0.08266497]\n",
      " [0.08433009 0.08306898 0.08447888 0.0835242  0.08394208 0.08313363\n",
      "  0.08266985 0.08429493 0.08338067 0.08269808 0.08300544]\n",
      " [0.08261613 0.08098843 0.08253186 0.08428052 0.08515636 0.08295406\n",
      "  0.08300193 0.08420689 0.08412678 0.08385368 0.08420582]]\n",
      "[0.08338437 0.08330055 0.083186   0.08352928 0.08364499 0.08290335\n",
      " 0.08327018 0.08365761 0.08311394 0.08297332 0.0831731 ]\n"
     ]
    }
   ],
   "source": [
    "from torchmetrics.functional import dice\n",
    "\n",
    "dice_score = []\n",
    "for i in range(10):\n",
    "    label = torch.randint(12, (224,61,61,)).flatten().cpu().detach()\n",
    "    pred = torch.randint(12, (224,61,61,)).flatten().cpu().detach()\n",
    "    step_dice_score = dice(pred, label, num_classes=12, multiclass=True, zero_division=1, ignore_index=0, average='none')\n",
    "    dice_score.append(step_dice_score.numpy())\n",
    "\n",
    "dice_score = np.array(dice_score)\n",
    "dice_score = dice_score[:,1:] # Drop zero label\n",
    "\n",
    "print(f\"Dice Score\\n{dice_score}\")\n",
    "print(np.average(dice_score, axis=0))\n"
   ],
   "metadata": {
    "collapsed": false,
    "pycharm": {
     "name": "#%%\n"
    }
   }
  },
  {
   "cell_type": "markdown",
   "source": [
    "### Test normalisation of confusion matrix"
   ],
   "metadata": {
    "collapsed": false,
    "pycharm": {
     "name": "#%% md\n"
    }
   }
  },
  {
   "cell_type": "code",
   "execution_count": 18,
   "outputs": [
    {
     "name": "stdout",
     "output_type": "stream",
     "text": [
      "row_maxs=[6979. 6960. 6947. 7041. 7018. 7071. 7111. 6981. 7030. 7034. 7101.]\n",
      "row_mins=[6734. 6724. 6790. 6768. 6695. 6795. 6699. 6790. 6746. 6690. 6720.]\n",
      "row_range=[245. 236. 157. 273. 323. 276. 412. 191. 284. 344. 381.]\n",
      "row_range[:, None]\n",
      "[[245.]\n",
      " [236.]\n",
      " [157.]\n",
      " [273.]\n",
      " [323.]\n",
      " [276.]\n",
      " [412.]\n",
      " [191.]\n",
      " [284.]\n",
      " [344.]\n",
      " [381.]]\n",
      "row_mins[:, None]\n",
      "[[6734.]\n",
      " [6724.]\n",
      " [6790.]\n",
      " [6768.]\n",
      " [6695.]\n",
      " [6795.]\n",
      " [6699.]\n",
      " [6790.]\n",
      " [6746.]\n",
      " [6690.]\n",
      " [6720.]]\n"
     ]
    }
   ],
   "source": [
    "# Normalize each row of the confusion matrix because class imbalance is\n",
    "# high and visualization is difficult\n",
    "row_mins = cm.min(axis=1)\n",
    "row_maxs = cm.max(axis=1)\n",
    "row_range = row_maxs - row_mins\n",
    "\n",
    "print(f\"row_maxs={row_maxs}\")\n",
    "print(f\"row_mins={row_mins}\")\n",
    "print(f\"row_range={row_range}\")\n",
    "\n",
    "print(f\"row_range[:, None]\\n{row_range[:, None]}\")\n",
    "print(f\"row_mins[:, None]\\n{row_mins[:, None]}\")"
   ],
   "metadata": {
    "collapsed": false,
    "pycharm": {
     "name": "#%%\n"
    }
   }
  },
  {
   "cell_type": "code",
   "execution_count": 19,
   "outputs": [
    {
     "name": "stdout",
     "output_type": "stream",
     "text": [
      "cm_norm\n",
      "[[0.90612245 0.5877551  0.74693878 0.50612245 0.8244898  0.\n",
      "  1.         0.48163265 0.72244898 0.56326531 0.87755102]\n",
      " [1.         0.86016949 0.59745763 0.83474576 0.36864407 0.1440678\n",
      "  0.84745763 0.         0.77542373 0.45762712 0.64830508]\n",
      " [1.         0.93630573 0.79617834 0.78980892 0.36942675 0.10191083\n",
      "  0.56050955 0.05732484 0.47770701 0.13375796 0.        ]\n",
      " [0.87545788 0.23443223 0.         1.         0.19047619 0.64102564\n",
      "  0.67399267 0.6959707  0.51648352 0.42857143 0.06959707]\n",
      " [0.30959752 0.49535604 0.6006192  0.58204334 0.6749226  1.\n",
      "  0.93498452 0.         0.12383901 0.37151703 0.6501548 ]\n",
      " [0.11594203 0.         0.17753623 0.66304348 0.41666667 0.64855072\n",
      "  0.34057971 0.82246377 1.         0.3115942  0.58695652]\n",
      " [0.74029126 0.66504854 0.19417476 0.41504854 0.55825243 0.65291262\n",
      "  0.72087379 0.58252427 1.         0.39805825 0.        ]\n",
      " [1.         0.96858639 0.64397906 0.72774869 0.41884817 0.28272251\n",
      "  0.37696335 0.         0.30890052 0.51308901 0.07853403]\n",
      " [0.         0.20070423 0.52112676 0.79225352 0.39788732 0.59859155\n",
      "  0.27112676 0.13732394 0.45422535 1.         0.65492958]\n",
      " [0.625      0.41860465 0.68023256 0.         0.93313953 0.46511628\n",
      "  0.28488372 0.70348837 0.50290698 0.36337209 1.        ]\n",
      " [0.11286089 0.73753281 0.34120735 1.         0.48818898 0.64829396\n",
      "  0.52230971 0.46456693 0.67979003 0.40944882 0.        ]]\n"
     ]
    }
   ],
   "source": [
    "cm_norm =  (cm - row_mins[:, None]) / row_range[:, None]\n",
    "print(f\"cm_norm\\n{cm_norm}\")"
   ],
   "metadata": {
    "collapsed": false,
    "pycharm": {
     "name": "#%%\n"
    }
   }
  },
  {
   "cell_type": "code",
   "execution_count": null,
   "outputs": [],
   "source": [
    "# Replace invalid values with 0\n",
    "cm_norm = np.nan_to_num(cm_norm, nan=0.0, posinf=0.0, neginf=0.0)"
   ],
   "metadata": {
    "collapsed": false,
    "pycharm": {
     "name": "#%%\n"
    }
   }
  },
  {
   "cell_type": "code",
   "execution_count": 21,
   "outputs": [
    {
     "data": {
      "text/plain": "<Figure size 504x504 with 2 Axes>",
      "image/png": "[encoded data removed]"
     },
     "metadata": {
      "needs_background": "light"
     },
     "output_type": "display_data"
    }
   ],
   "source": [
    "import matplotlib.pyplot as plt\n",
    "from matplotlib.patches import Rectangle\n",
    "import seaborn as sns\n",
    "\n",
    "crop_encoding_rev = {v: k for k, v in CROP_ENCODING.items()}\n",
    "crop_encoding = {k: crop_encoding_rev[k] for k in LINEAR_ENCODER.keys() if k != 0}\n",
    "crop_encoding[0] = 'Background/Other'\n",
    "\n",
    "# Create plot\n",
    "fig, ax = plt.subplots(1, 1, figsize=(7, 7))\n",
    "sns.heatmap(cm_norm, annot=False, ax=ax, cmap=\"Blues\", fmt=\"g\")\n",
    "\n",
    "# Labels, title and ticks\n",
    "label_font = {'size': '18'}\n",
    "ax.set_xlabel('Predicted labels', fontdict=label_font, labelpad=10)\n",
    "ax.set_ylabel('Observed labels', fontdict=label_font, labelpad=10)\n",
    "\n",
    "ax.set_xticks(list(np.arange(0.5, len(LINEAR_ENCODER.keys()) - 1 + 0.5)))\n",
    "ax.set_yticks(list(np.arange(0.5, len(LINEAR_ENCODER.keys()) - 1 + 0.5)))\n",
    "\n",
    "ax.xaxis.set_ticks_position('none')\n",
    "ax.yaxis.set_ticks_position('none')\n",
    "\n",
    "ax.set_xticklabels([f'{crop_encoding[k]} ({k})' for k in sorted(LINEAR_ENCODER.keys()) if k != 0], fontsize=8, rotation='vertical')\n",
    "ax.set_yticklabels([f'{crop_encoding[k]} ({k})' for k in sorted(LINEAR_ENCODER.keys()) if k != 0], fontsize=8, rotation='horizontal')\n",
    "\n",
    "ax.tick_params(axis='both', which='major')\n",
    "\n",
    "title_font = {'size': '21'}\n",
    "ax.set_title('Confusion Matrix', fontdict=title_font)\n",
    "\n",
    "for i in range(len(LINEAR_ENCODER.keys()) - 1):\n",
    "    ax.add_patch(Rectangle((i, i), 1, 1, fill=False, edgecolor='red', lw=2))\n",
    "\n",
    "plt.show()\n"
   ],
   "metadata": {
    "collapsed": false,
    "pycharm": {
     "name": "#%%\n"
    }
   }
  },
  {
   "cell_type": "markdown",
   "source": [
    "## Calculate Embedded Dimensions from number of layers and input dimensions"
   ],
   "metadata": {
    "collapsed": false,
    "pycharm": {
     "name": "#%% md\n"
    }
   }
  },
  {
   "cell_type": "code",
   "execution_count": 47,
   "outputs": [
    {
     "name": "stdout",
     "output_type": "stream",
     "text": [
      "Input Dimension: [61 x 61]\n",
      "Embedded Dimensions: [7 x 7] = 49 \n",
      "Number of Heads: 1 | Embedded Dimensions per Head: 49\n"
     ]
    }
   ],
   "source": [
    "tile_dim = 366\n",
    "num_patches = 6\n",
    "num_layers = 4\n",
    "num_heads = 1\n",
    "\n",
    "output_dim = img_dim = int(tile_dim/num_patches)\n",
    "print(f\"Input Dimension: [{img_dim} x {img_dim}]\")\n",
    "for i in range(num_layers-1):    output_dim = output_dim // 2\n",
    "\n",
    "embed_dim = output_dim*output_dim # dimension of pixel grad in final downsample layer\n",
    "print(f\"Embedded Dimensions: [{output_dim} x {output_dim}] = {embed_dim} \")\n",
    "\n",
    "# Validate that embedded dimensions can be split evenly across number of heads\n",
    "head_dim = embed_dim // num_heads\n",
    "assert head_dim * num_heads == embed_dim, \"embed_dim must be divisible by num_heads\"\n",
    "print(f\"Number of Heads: {num_heads} | Embedded Dimensions per Head: {head_dim}\")"
   ],
   "metadata": {
    "collapsed": false,
    "pycharm": {
     "name": "#%%\n"
    }
   }
  },
  {
   "cell_type": "code",
   "execution_count": 42,
   "outputs": [
    {
     "name": "stdout",
     "output_type": "stream",
     "text": [
      "U-Net Transformer (U-Net with MHSA and MHCA)\n"
     ]
    }
   ],
   "source": [
    "mhsa = False\n",
    "mhca = True\n",
    "if mhsa and not mhca:\n",
    "    text = \"U-Net with MHSA only\"\n",
    "elif mhca and not mhsa:\n",
    "    text = \"U-Net with MHCA only\"\n",
    "else:\n",
    "    text = \"U-Net Transformer (U-Net with MHSA and MHCA)\"\n",
    "print(text)\n"
   ],
   "metadata": {
    "collapsed": false,
    "pycharm": {
     "name": "#%%\n"
    }
   }
  },
  {
   "cell_type": "code",
   "execution_count": null,
   "outputs": [],
   "source": [],
   "metadata": {
    "collapsed": false,
    "pycharm": {
     "name": "#%%\n"
    }
   }
  }
 ],
 "metadata": {
  "kernelspec": {
   "display_name": "Python 3",
   "language": "python",
   "name": "python3"
  },
  "language_info": {
   "codemirror_mode": {
    "name": "ipython",
    "version": 2
   },
   "file_extension": ".py",
   "mimetype": "text/x-python",
   "name": "python",
   "nbconvert_exporter": "python",
   "pygments_lexer": "ipython2",
   "version": "2.7.6"
  }
 },
 "nbformat": 4,
 "nbformat_minor": 0
}