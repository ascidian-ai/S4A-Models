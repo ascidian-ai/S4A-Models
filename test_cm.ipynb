{
 "cells": [
  {
   "cell_type": "code",
   "execution_count": 86,
   "metadata": {
    "collapsed": true,
    "pycharm": {
     "name": "#%%\n"
    }
   },
   "outputs": [],
   "source": [
    "from datetime import datetime\n",
    "import torch\n",
    "import numpy as np\n",
    "from pathlib import Path\n",
    "\n",
    "from utils.settings.config import LINEAR_ENCODER, CROP_ENCODING\n",
    "num_discrete_labels = len(set(LINEAR_ENCODER.values()))\n",
    "\n",
    "def starttimer():\n",
    "    start = datetime.now()\n",
    "    print(f'{start.strftime(\"%Y-%m-%d %H:%M:%S\")}')\n",
    "    return start\n",
    "\n",
    "def endtimer(start):\n",
    "    end = datetime.now()\n",
    "    print(f'{end.strftime(\"%Y-%m-%d %H:%M:%S\")}')\n",
    "    durn = end - start\n",
    "    print(f'Duration: {durn}')\n",
    "    return end, durn"
   ]
  },
  {
   "cell_type": "code",
   "execution_count": 91,
   "outputs": [],
   "source": [
    "run_path = \"logs/unet/20220807233511/run_20220807233511/\"\n",
    "run_path = Path(run_path)\n",
    "\n",
    "testrun_path = Path(run_path / f'testrun_{datetime.now().strftime(\"%Y%m%d_%H%M%S\")}')\n",
    "testrun_path.mkdir(exist_ok=True, parents=True)"
   ],
   "metadata": {
    "collapsed": false,
    "pycharm": {
     "name": "#%%\n"
    }
   }
  },
  {
   "cell_type": "code",
   "execution_count": 8,
   "outputs": [
    {
     "name": "stdout",
     "output_type": "stream",
     "text": [
      "2022-08-12 15:19:47\n",
      "2022-08-12 15:23:54\n",
      "Duration: 0:04:06.949927\n"
     ]
    }
   ],
   "source": [
    "confusion_matrix = torch.zeros([num_discrete_labels, num_discrete_labels])\n",
    "label = torch.randint(11, (833504,), dtype=torch.uint8, device='cuda')\n",
    "pred = torch.randint(11, (833504,), dtype=torch.uint8, device='cuda')\n",
    "s = starttimer()\n",
    "for i in range(label.shape[0]):\n",
    "    confusion_matrix[label[i], pred[i]] += 1\n",
    "e,d = endtimer(s)"
   ],
   "metadata": {
    "collapsed": false,
    "pycharm": {
     "name": "#%%\n"
    }
   }
  },
  {
   "cell_type": "code",
   "execution_count": 9,
   "outputs": [
    {
     "name": "stdout",
     "output_type": "stream",
     "text": [
      "2022-08-12 15:23:54\n",
      "2022-08-12 15:27:19\n",
      "Duration: 0:03:25.371922\n"
     ]
    }
   ],
   "source": [
    "confusion_matrix = torch.zeros([num_discrete_labels, num_discrete_labels])\n",
    "label = torch.randint(11, (833504,), device='cuda')\n",
    "pred = torch.randint(11, (833504,), device='cuda')\n",
    "s = starttimer()\n",
    "for i in range(label.shape[0]):\n",
    "    confusion_matrix[label[i], pred[i]] += 1\n",
    "e,d = endtimer(s)"
   ],
   "metadata": {
    "collapsed": false,
    "pycharm": {
     "name": "#%%\n"
    }
   }
  },
  {
   "cell_type": "code",
   "execution_count": 10,
   "outputs": [
    {
     "name": "stdout",
     "output_type": "stream",
     "text": [
      "2022-08-12 15:27:19\n",
      "2022-08-12 15:28:09\n",
      "Duration: 0:00:50.333319\n"
     ]
    }
   ],
   "source": [
    "confusion_matrix = torch.zeros([num_discrete_labels, num_discrete_labels])\n",
    "label = torch.randint(11, (833504,), dtype=torch.uint8, device='cpu')\n",
    "pred = torch.randint(11, (833504,), dtype=torch.uint8, device='cpu')\n",
    "s = starttimer()\n",
    "for i in range(label.shape[0]):\n",
    "    confusion_matrix[label[i], pred[i]] += 1\n",
    "e,d = endtimer(s)"
   ],
   "metadata": {
    "collapsed": false,
    "pycharm": {
     "name": "#%%\n"
    }
   }
  },
  {
   "cell_type": "code",
   "execution_count": 28,
   "outputs": [
    {
     "name": "stdout",
     "output_type": "stream",
     "text": [
      "2022-08-12 15:45:05\n",
      "2022-08-12 15:45:27\n",
      "Duration: 0:00:22.844359\n"
     ]
    }
   ],
   "source": [
    "confusion_matrix = torch.zeros([num_discrete_labels, num_discrete_labels])\n",
    "label = torch.randint(11, (833504,), device='cpu')\n",
    "pred = torch.randint(11, (833504,), device='cpu')\n",
    "s = starttimer()\n",
    "for i in range(label.shape[0]):\n",
    "    confusion_matrix[label[i], pred[i]] += 1\n",
    "e,d = endtimer(s)"
   ],
   "metadata": {
    "collapsed": false,
    "pycharm": {
     "name": "#%%\n"
    }
   }
  },
  {
   "cell_type": "code",
   "execution_count": 31,
   "outputs": [
    {
     "name": "stdout",
     "output_type": "stream",
     "text": [
      "2022-08-12 15:46:29\n",
      "2022-08-12 15:46:52\n",
      "Duration: 0:00:22.485722\n"
     ]
    }
   ],
   "source": [
    "confusion_matrix = torch.zeros([num_discrete_labels, num_discrete_labels])\n",
    "confusion_matrix.to(device='cpu')\n",
    "\n",
    "label = torch.randint(11, (833504,), device='cpu')\n",
    "pred = torch.randint(11, (833504,), device='cpu')\n",
    "s = starttimer()\n",
    "for i in range(label.shape[0]):\n",
    "    confusion_matrix[label[i], pred[i]] += 1\n",
    "e,d = endtimer(s)"
   ],
   "metadata": {
    "collapsed": false,
    "pycharm": {
     "name": "#%%\n"
    }
   }
  },
  {
   "cell_type": "code",
   "execution_count": 77,
   "outputs": [
    {
     "name": "stdout",
     "output_type": "stream",
     "text": [
      "2022-08-12 18:56:05\n",
      "2022-08-12 18:56:05\n",
      "Duration: 0:00:00.127956\n"
     ]
    }
   ],
   "source": [
    "from sklearn.metrics import confusion_matrix, classification_report\n",
    "\n",
    "cm = torch.zeros([num_discrete_labels-1, num_discrete_labels-1])\n",
    "\n",
    "label = torch.randint(11, (833504,), device='cpu')\n",
    "pred = torch.randint(11, (833504,), device='cpu')\n",
    "s = starttimer()\n",
    "cm_delta = confusion_matrix(label, pred)\n",
    "cm = cm + cm_delta\n",
    "e,d = endtimer(s)\n"
   ],
   "metadata": {
    "collapsed": false,
    "pycharm": {
     "name": "#%%\n"
    }
   }
  },
  {
   "cell_type": "code",
   "execution_count": 78,
   "outputs": [],
   "source": [
    "# Calculate and show classification metrics for individual classes\n",
    "cm = cm.cpu().detach().numpy()\n",
    "FP = cm.sum(axis=0) - np.diag(cm)\n",
    "FN = cm.sum(axis=1) - np.diag(cm)\n",
    "TP = np.diag(cm)\n",
    "TN = cm.sum() - (FP + FN + TP)\n"
   ],
   "metadata": {
    "collapsed": false,
    "pycharm": {
     "name": "#%%\n"
    }
   }
  },
  {
   "cell_type": "code",
   "execution_count": 81,
   "outputs": [
    {
     "name": "stdout",
     "output_type": "stream",
     "text": [
      "{110: 'Wheat', 120: 'Maize', 140: 'Sorghum', 150: 'Barley', 160: 'Rye', 170: 'Oats', 330: 'Grapes', 435: 'Rapeseed', 438: 'Sunflower', 510: 'Potatoes', 770: 'Peas'}\n"
     ]
    }
   ],
   "source": [
    "crop_encoding_rev = {v: k for k, v in CROP_ENCODING.items()}\n",
    "crop_encoding = {k: crop_encoding_rev[k] for k in LINEAR_ENCODER.keys() if k != 0}\n",
    "#crop_encoding[0] = 'Background/Other'\n",
    "print(crop_encoding)\n",
    "\n",
    "class_labels = list(crop_encoding.values())"
   ],
   "metadata": {
    "collapsed": false,
    "pycharm": {
     "name": "#%%\n"
    }
   }
  },
  {
   "cell_type": "code",
   "execution_count": 82,
   "outputs": [
    {
     "name": "stdout",
     "output_type": "stream",
     "text": [
      "{'0': {'precision': 0.09121964730865109, 'recall': 0.09136304790086924, 'f1-score': 0.09129129129129128, 'support': 75698}, '1': {'precision': 0.08937364324667761, 'recall': 0.08892166675446452, 'f1-score': 0.08914708212305256, 'support': 75932}, '2': {'precision': 0.08926366669293614, 'recall': 0.09002874667161233, 'f1-score': 0.08964457430039374, 'support': 75487}, '3': {'precision': 0.0911182394236584, 'recall': 0.09175514310678069, 'f1-score': 0.0914355821746128, 'support': 75538}, '4': {'precision': 0.09107557560878508, 'recall': 0.09035613192021592, 'f1-score': 0.09071442733461106, 'support': 75955}, '5': {'precision': 0.0912077039773102, 'recall': 0.0912077039773102, 'f1-score': 0.0912077039773102, 'support': 75805}, '6': {'precision': 0.09059931052771149, 'recall': 0.09007975743194252, 'f1-score': 0.09033878697735911, 'support': 75855}, '7': {'precision': 0.09054600872352725, 'recall': 0.090622205859149, 'f1-score': 0.09058409126754641, 'support': 76052}, '8': {'precision': 0.09253856868774475, 'recall': 0.09252884135284997, 'f1-score': 0.09253370476465794, 'support': 76106}, '9': {'precision': 0.09071646662455254, 'recall': 0.09117001296193424, 'f1-score': 0.09094267431888646, 'support': 75606}, '10': {'precision': 0.09021966179268504, 'recall': 0.0898502716311117, 'f1-score': 0.09003458783384562, 'support': 75470}, 'accuracy': 0.09071702115406764, 'macro avg': {'precision': 0.09071622660129451, 'recall': 0.09071668450620368, 'f1-score': 0.09071586421486975, 'support': 833504}, 'weighted avg': {'precision': 0.0907172476421911, 'recall': 0.09071702115406764, 'f1-score': 0.0907165436891677, 'support': 833504}}\n"
     ]
    }
   ],
   "source": [
    "cm_report = classification_report(label, pred, zero_division=0, output_dict=True)\n",
    "print(cm_report)"
   ],
   "metadata": {
    "collapsed": false,
    "pycharm": {
     "name": "#%%\n"
    }
   }
  },
  {
   "cell_type": "code",
   "execution_count": 85,
   "outputs": [
    {
     "name": "stdout",
     "output_type": "stream",
     "text": [
      "0\n",
      "1\n",
      "2\n",
      "3\n",
      "4\n",
      "5\n",
      "6\n",
      "7\n",
      "8\n",
      "9\n",
      "10\n"
     ]
    },
    {
     "data": {
      "text/plain": "<pandas.io.formats.style.Styler at 0x22644f27eb0>",
      "text/html": "<style type=\"text/css\">\n</style>\n<table id=\"T_5f0a9\">\n  <thead>\n    <tr>\n      <th class=\"blank level0\" >&nbsp;</th>\n      <th id=\"T_5f0a9_level0_col0\" class=\"col_heading level0 col0\" >accuracy (%)</th>\n      <th id=\"T_5f0a9_level0_col1\" class=\"col_heading level0 col1\" >precision (%)</th>\n      <th id=\"T_5f0a9_level0_col2\" class=\"col_heading level0 col2\" >recall (%)</th>\n      <th id=\"T_5f0a9_level0_col3\" class=\"col_heading level0 col3\" >fscore (%)</th>\n    </tr>\n  </thead>\n  <tbody>\n    <tr>\n      <th id=\"T_5f0a9_level0_row0\" class=\"row_heading level0 row0\" >Wheat</th>\n      <td id=\"T_5f0a9_row0_col0\" class=\"data row0 col0\" >83.481</td>\n      <td id=\"T_5f0a9_row0_col1\" class=\"data row0 col1\" >9.122</td>\n      <td id=\"T_5f0a9_row0_col2\" class=\"data row0 col2\" >9.136</td>\n      <td id=\"T_5f0a9_row0_col3\" class=\"data row0 col3\" >9.129</td>\n    </tr>\n    <tr>\n      <th id=\"T_5f0a9_level0_row1\" class=\"row_heading level0 row1\" >Maize</th>\n      <td id=\"T_5f0a9_row1_col0\" class=\"data row1 col0\" >83.446</td>\n      <td id=\"T_5f0a9_row1_col1\" class=\"data row1 col1\" >8.937</td>\n      <td id=\"T_5f0a9_row1_col2\" class=\"data row1 col2\" >8.892</td>\n      <td id=\"T_5f0a9_row1_col3\" class=\"data row1 col3\" >8.915</td>\n    </tr>\n    <tr>\n      <th id=\"T_5f0a9_level0_row2\" class=\"row_heading level0 row2\" >Sorghum</th>\n      <td id=\"T_5f0a9_row2_col0\" class=\"data row2 col0\" >83.440</td>\n      <td id=\"T_5f0a9_row2_col1\" class=\"data row2 col1\" >8.926</td>\n      <td id=\"T_5f0a9_row2_col2\" class=\"data row2 col2\" >9.003</td>\n      <td id=\"T_5f0a9_row2_col3\" class=\"data row2 col3\" >8.964</td>\n    </tr>\n    <tr>\n      <th id=\"T_5f0a9_level0_row3\" class=\"row_heading level0 row3\" >Barley</th>\n      <td id=\"T_5f0a9_row3_col0\" class=\"data row3 col0\" >83.474</td>\n      <td id=\"T_5f0a9_row3_col1\" class=\"data row3 col1\" >9.112</td>\n      <td id=\"T_5f0a9_row3_col2\" class=\"data row3 col2\" >9.176</td>\n      <td id=\"T_5f0a9_row3_col3\" class=\"data row3 col3\" >9.144</td>\n    </tr>\n    <tr>\n      <th id=\"T_5f0a9_level0_row4\" class=\"row_heading level0 row4\" >Rye</th>\n      <td id=\"T_5f0a9_row4_col0\" class=\"data row4 col0\" >83.493</td>\n      <td id=\"T_5f0a9_row4_col1\" class=\"data row4 col1\" >9.108</td>\n      <td id=\"T_5f0a9_row4_col2\" class=\"data row4 col2\" >9.036</td>\n      <td id=\"T_5f0a9_row4_col3\" class=\"data row4 col3\" >9.071</td>\n    </tr>\n    <tr>\n      <th id=\"T_5f0a9_level0_row5\" class=\"row_heading level0 row5\" >Oats</th>\n      <td id=\"T_5f0a9_row5_col0\" class=\"data row5 col0\" >83.470</td>\n      <td id=\"T_5f0a9_row5_col1\" class=\"data row5 col1\" >9.121</td>\n      <td id=\"T_5f0a9_row5_col2\" class=\"data row5 col2\" >9.121</td>\n      <td id=\"T_5f0a9_row5_col3\" class=\"data row5 col3\" >9.121</td>\n    </tr>\n    <tr>\n      <th id=\"T_5f0a9_level0_row6\" class=\"row_heading level0 row6\" >Grapes</th>\n      <td id=\"T_5f0a9_row6_col0\" class=\"data row6 col0\" >83.490</td>\n      <td id=\"T_5f0a9_row6_col1\" class=\"data row6 col1\" >9.060</td>\n      <td id=\"T_5f0a9_row6_col2\" class=\"data row6 col2\" >9.008</td>\n      <td id=\"T_5f0a9_row6_col3\" class=\"data row6 col3\" >9.034</td>\n    </tr>\n    <tr>\n      <th id=\"T_5f0a9_level0_row7\" class=\"row_heading level0 row7\" >Rapeseed</th>\n      <td id=\"T_5f0a9_row7_col0\" class=\"data row7 col0\" >83.397</td>\n      <td id=\"T_5f0a9_row7_col1\" class=\"data row7 col1\" >9.055</td>\n      <td id=\"T_5f0a9_row7_col2\" class=\"data row7 col2\" >9.062</td>\n      <td id=\"T_5f0a9_row7_col3\" class=\"data row7 col3\" >9.058</td>\n    </tr>\n    <tr>\n      <th id=\"T_5f0a9_level0_row8\" class=\"row_heading level0 row8\" >Sunflower</th>\n      <td id=\"T_5f0a9_row8_col0\" class=\"data row8 col0\" >83.429</td>\n      <td id=\"T_5f0a9_row8_col1\" class=\"data row8 col1\" >9.254</td>\n      <td id=\"T_5f0a9_row8_col2\" class=\"data row8 col2\" >9.253</td>\n      <td id=\"T_5f0a9_row8_col3\" class=\"data row8 col3\" >9.253</td>\n    </tr>\n    <tr>\n      <th id=\"T_5f0a9_level0_row9\" class=\"row_heading level0 row9\" >Potatoes</th>\n      <td id=\"T_5f0a9_row9_col0\" class=\"data row9 col0\" >83.467</td>\n      <td id=\"T_5f0a9_row9_col1\" class=\"data row9 col1\" >9.072</td>\n      <td id=\"T_5f0a9_row9_col2\" class=\"data row9 col2\" >9.117</td>\n      <td id=\"T_5f0a9_row9_col3\" class=\"data row9 col3\" >9.094</td>\n    </tr>\n    <tr>\n      <th id=\"T_5f0a9_level0_row10\" class=\"row_heading level0 row10\" >Peas</th>\n      <td id=\"T_5f0a9_row10_col0\" class=\"data row10 col0\" >83.555</td>\n      <td id=\"T_5f0a9_row10_col1\" class=\"data row10 col1\" >9.022</td>\n      <td id=\"T_5f0a9_row10_col2\" class=\"data row10 col2\" >8.985</td>\n      <td id=\"T_5f0a9_row10_col3\" class=\"data row10 col3\" >9.003</td>\n    </tr>\n    <tr>\n      <th id=\"T_5f0a9_level0_row11\" class=\"row_heading level0 row11\" >total</th>\n      <td id=\"T_5f0a9_row11_col0\" class=\"data row11 col0\" >9.072</td>\n      <td id=\"T_5f0a9_row11_col1\" class=\"data row11 col1\" >nan</td>\n      <td id=\"T_5f0a9_row11_col2\" class=\"data row11 col2\" >nan</td>\n      <td id=\"T_5f0a9_row11_col3\" class=\"data row11 col3\" >nan</td>\n    </tr>\n    <tr>\n      <th id=\"T_5f0a9_level0_row12\" class=\"row_heading level0 row12\" >weighted avg</th>\n      <td id=\"T_5f0a9_row12_col0\" class=\"data row12 col0\" >nan</td>\n      <td id=\"T_5f0a9_row12_col1\" class=\"data row12 col1\" >9.072</td>\n      <td id=\"T_5f0a9_row12_col2\" class=\"data row12 col2\" >9.072</td>\n      <td id=\"T_5f0a9_row12_col3\" class=\"data row12 col3\" >9.072</td>\n    </tr>\n  </tbody>\n</table>\n"
     },
     "metadata": {},
     "output_type": "display_data"
    }
   ],
   "source": [
    "import pandas as pd\n",
    "# get precision, recall and f1 score\n",
    "precision = []\n",
    "recall = []\n",
    "fscore = []\n",
    "for cm_class in range(len(class_labels)):\n",
    "    print(cm_class)\n",
    "    precision.append(cm_report[str(cm_class)]['precision']*100)\n",
    "    recall.append(cm_report[str(cm_class)]['recall']*100)\n",
    "    fscore.append(cm_report[str(cm_class)]['f1-score']*100)\n",
    "\n",
    "total_accuracy = cm_report['accuracy']\n",
    "\n",
    "# Convert individual metrics into a dataframe for easier reporting\n",
    "estimatorMetrics = list(zip(accuracy*100,precision*100,recall*100,fscore*100))\n",
    "\n",
    "# Add additional rows for summative measures\n",
    "summative_measures = np.array(['total','weighted avg'])\n",
    "indices = np.append(class_labels,summative_measures)\n",
    "\n",
    "# Add Totals\n",
    "# NOTE: Weighted Average of Recall = Total Accuracy\n",
    "estimatorMetrics.append([cm_report['accuracy']*100,np.nan,np.nan,np.nan])\n",
    "\n",
    "# Add Weighted Averages\n",
    "estimatorMetrics.append([np.nan, cm_report['weighted avg']['precision']*100,\n",
    "                                 cm_report['weighted avg']['recall']*100,\n",
    "                                 cm_report['weighted avg']['f1-score']*100])\n",
    "\n",
    "# Create DataFrame containing metrics\n",
    "df = pd.DataFrame(estimatorMetrics, index=indices,\n",
    "                                       columns=['accuracy (%)','precision (%)','recall (%)','fscore (%)'])\n",
    "\n",
    "display(df.style.format('{0:,.3f}'))"
   ],
   "metadata": {
    "collapsed": false,
    "pycharm": {
     "name": "#%%\n"
    }
   }
  },
  {
   "cell_type": "code",
   "execution_count": null,
   "outputs": [],
   "source": [],
   "metadata": {
    "collapsed": false,
    "pycharm": {
     "name": "#%%\n"
    }
   }
  }
 ],
 "metadata": {
  "kernelspec": {
   "display_name": "Python 3",
   "language": "python",
   "name": "python3"
  },
  "language_info": {
   "codemirror_mode": {
    "name": "ipython",
    "version": 2
   },
   "file_extension": ".py",
   "mimetype": "text/x-python",
   "name": "python",
   "nbconvert_exporter": "python",
   "pygments_lexer": "ipython2",
   "version": "2.7.6"
  }
 },
 "nbformat": 4,
 "nbformat_minor": 0
}