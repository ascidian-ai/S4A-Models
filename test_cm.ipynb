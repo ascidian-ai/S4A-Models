{
 "cells": [
  {
   "cell_type": "code",
   "execution_count": 15,
   "metadata": {
    "collapsed": true,
    "pycharm": {
     "name": "#%%\n"
    }
   },
   "outputs": [],
   "source": [
    "from datetime import datetime\n",
    "import torch\n",
    "import numpy as np\n",
    "from pathlib import Path\n",
    "\n",
    "from utils.settings.config import LINEAR_ENCODER, CROP_ENCODING\n",
    "num_discrete_labels = len(set(LINEAR_ENCODER.values()))\n",
    "\n",
    "def starttimer():\n",
    "    start = datetime.now()\n",
    "    print(f'{start.strftime(\"%Y-%m-%d %H:%M:%S\")}')\n",
    "    return start\n",
    "\n",
    "def endtimer(start):\n",
    "    end = datetime.now()\n",
    "    print(f'{end.strftime(\"%Y-%m-%d %H:%M:%S\")}')\n",
    "    durn = end - start\n",
    "    print(f'Duration: {durn.total_seconds()}s')\n",
    "    return end, durn"
   ]
  },
  {
   "cell_type": "code",
   "execution_count": 16,
   "outputs": [],
   "source": [
    "run_path = \"logs/unet/20220807233511/run_20220807233511/\"\n",
    "run_path = Path(run_path)\n",
    "\n",
    "testrun_path = Path(run_path / f'testrun_{datetime.now().strftime(\"%Y%m%d_%H%M%S\")}')\n",
    "testrun_path.mkdir(exist_ok=True, parents=True)"
   ],
   "metadata": {
    "collapsed": false,
    "pycharm": {
     "name": "#%%\n"
    }
   }
  },
  {
   "cell_type": "code",
   "execution_count": 17,
   "outputs": [
    {
     "name": "stdout",
     "output_type": "stream",
     "text": [
      "2022-08-15 14:24:34\n",
      "2022-08-15 14:28:10\n",
      "Duration: 216.570497s\n"
     ]
    }
   ],
   "source": [
    "confusion_matrix = torch.zeros([num_discrete_labels, num_discrete_labels])\n",
    "label = torch.randint(11, (833504,), dtype=torch.uint8, device='cuda')\n",
    "pred = torch.randint(11, (833504,), dtype=torch.uint8, device='cuda')\n",
    "s = starttimer()\n",
    "for i in range(label.shape[0]):\n",
    "    confusion_matrix[label[i], pred[i]] += 1\n",
    "e,d = endtimer(s)"
   ],
   "metadata": {
    "collapsed": false,
    "pycharm": {
     "name": "#%%\n"
    }
   }
  },
  {
   "cell_type": "code",
   "execution_count": 18,
   "outputs": [
    {
     "name": "stdout",
     "output_type": "stream",
     "text": [
      "2022-08-15 14:28:10\n",
      "2022-08-15 14:31:08\n",
      "Duration: 177.392271s\n"
     ]
    }
   ],
   "source": [
    "confusion_matrix = torch.zeros([num_discrete_labels, num_discrete_labels])\n",
    "label = torch.randint(11, (833504,), device='cuda')\n",
    "pred = torch.randint(11, (833504,), device='cuda')\n",
    "s = starttimer()\n",
    "for i in range(label.shape[0]):\n",
    "    confusion_matrix[label[i], pred[i]] += 1\n",
    "e,d = endtimer(s)"
   ],
   "metadata": {
    "collapsed": false,
    "pycharm": {
     "name": "#%%\n"
    }
   }
  },
  {
   "cell_type": "code",
   "execution_count": 19,
   "outputs": [
    {
     "name": "stdout",
     "output_type": "stream",
     "text": [
      "2022-08-15 14:31:08\n",
      "2022-08-15 14:31:53\n",
      "Duration: 45.480613s\n"
     ]
    }
   ],
   "source": [
    "confusion_matrix = torch.zeros([num_discrete_labels, num_discrete_labels])\n",
    "label = torch.randint(11, (833504,), dtype=torch.uint8, device='cpu')\n",
    "pred = torch.randint(11, (833504,), dtype=torch.uint8, device='cpu')\n",
    "s = starttimer()\n",
    "for i in range(label.shape[0]):\n",
    "    confusion_matrix[label[i], pred[i]] += 1\n",
    "e,d = endtimer(s)"
   ],
   "metadata": {
    "collapsed": false,
    "pycharm": {
     "name": "#%%\n"
    }
   }
  },
  {
   "cell_type": "code",
   "execution_count": 20,
   "outputs": [
    {
     "name": "stdout",
     "output_type": "stream",
     "text": [
      "2022-08-15 14:31:53\n",
      "2022-08-15 14:31:58\n",
      "Duration: 4.908068s\n"
     ]
    }
   ],
   "source": [
    "confusion_matrix = np.zeros([num_discrete_labels, num_discrete_labels])\n",
    "label = torch.randint(11, (833504,), device='cpu')\n",
    "pred = torch.randint(11, (833504,), device='cpu')\n",
    "s = starttimer()\n",
    "for i in range(label.shape[0]):\n",
    "    confusion_matrix[label[i], pred[i]] += 1\n",
    "e,d = endtimer(s)"
   ],
   "metadata": {
    "collapsed": false,
    "pycharm": {
     "name": "#%%\n"
    }
   }
  },
  {
   "cell_type": "code",
   "execution_count": 21,
   "outputs": [
    {
     "name": "stdout",
     "output_type": "stream",
     "text": [
      "2022-08-15 14:31:58\n",
      "2022-08-15 14:31:59\n",
      "Duration: 0.431001s\n"
     ]
    }
   ],
   "source": [
    "confusion_matrix = np.zeros([num_discrete_labels, num_discrete_labels])\n",
    "label = torch.randint(11, (224,61,61,)).cpu().detach().numpy().flatten()\n",
    "pred = torch.randint(11, (224,61,61,)).cpu().detach().numpy().flatten()\n",
    "s = starttimer()\n",
    "for i in range(label.shape[0]):\n",
    "    confusion_matrix[label[i], pred[i]] += 1\n",
    "e,d = endtimer(s)"
   ],
   "metadata": {
    "collapsed": false,
    "pycharm": {
     "name": "#%%\n"
    }
   }
  },
  {
   "cell_type": "code",
   "execution_count": 45,
   "outputs": [
    {
     "name": "stdout",
     "output_type": "stream",
     "text": [
      "2022-08-15 14:47:39\n",
      "2022-08-15 14:47:40\n",
      "Duration: 0.129001s\n"
     ]
    }
   ],
   "source": [
    "from sklearn.metrics import confusion_matrix\n",
    "cm = np.zeros([num_discrete_labels-1, num_discrete_labels-1])\n",
    "\n",
    "label = torch.randint(11, (224,61,61,)).flatten().cpu().detach()\n",
    "pred = torch.randint(11, (224,61,61,)).flatten().cpu().detach()\n",
    "\n",
    "s = starttimer()\n",
    "cm_delta = confusion_matrix(label, pred)\n",
    "cm = cm + cm_delta\n",
    "e,d = endtimer(s)"
   ],
   "metadata": {
    "collapsed": false,
    "pycharm": {
     "name": "#%%\n"
    }
   }
  },
  {
   "cell_type": "code",
   "execution_count": 93,
   "outputs": [
    {
     "name": "stdout",
     "output_type": "stream",
     "text": [
      "Dice Score\n",
      "[[0.08472826 0.08319587 0.08372173 0.08160654 0.08206059 0.08184217\n",
      "  0.0857697  0.08151936 0.08385992 0.0848389  0.08066557]\n",
      " [0.08181564 0.08483499 0.08249715 0.08256092 0.0841168  0.08364642\n",
      "  0.08112432 0.08251867 0.08223022 0.08380257 0.08337298]\n",
      " [0.08486968 0.08468919 0.08197322 0.08191588 0.08375364 0.08491933\n",
      "  0.08427685 0.08606374 0.08219178 0.08253139 0.08366011]\n",
      " [0.08298323 0.0835162  0.08266919 0.08312801 0.08460183 0.0838313\n",
      "  0.08421264 0.08277788 0.08361756 0.08380831 0.08341897]\n",
      " [0.08200999 0.08340331 0.08356722 0.08300404 0.08395467 0.08366252\n",
      "  0.08344851 0.08341793 0.08416447 0.08347618 0.08374469]\n",
      " [0.08369589 0.08297019 0.0834953  0.08414627 0.08523703 0.08357806\n",
      "  0.08214142 0.08038588 0.08235685 0.08315092 0.08158075]\n",
      " [0.08432846 0.08295669 0.08302313 0.08250605 0.08260415 0.08417162\n",
      "  0.08286054 0.08298139 0.08359385 0.0818174  0.08311132]\n",
      " [0.0821448  0.08299265 0.08432989 0.08301453 0.08072793 0.08352835\n",
      "  0.08482324 0.08255092 0.08468756 0.08362861 0.0831735 ]\n",
      " [0.08424274 0.0821626  0.08503199 0.08280044 0.08228393 0.08420184\n",
      "  0.08252606 0.08358029 0.08325198 0.08289754 0.084346  ]\n",
      " [0.08496352 0.08286141 0.0827952  0.08315434 0.08186093 0.08131862\n",
      "  0.0821799  0.0849571  0.08378711 0.08412697 0.08336514]]\n",
      "[0.08357822 0.08335831 0.0833104  0.0827837  0.08312015 0.08347002\n",
      " 0.08333632 0.08307532 0.08337412 0.08340787 0.08304391]\n"
     ]
    }
   ],
   "source": [
    "from torchmetrics.functional import dice\n",
    "\n",
    "dice_score = []\n",
    "for i in range(10):\n",
    "    label = torch.randint(12, (224,61,61,)).flatten().cpu().detach()\n",
    "    pred = torch.randint(12, (224,61,61,)).flatten().cpu().detach()\n",
    "    step_dice_score = dice(pred, label, num_classes=12, multiclass=True, zero_division=1, ignore_index=0, average='none')\n",
    "    dice_score.append(step_dice_score.numpy())\n",
    "\n",
    "dice_score = np.array(dice_score)\n",
    "dice_score = dice_score[:,1:] # Drop zero label\n",
    "\n",
    "print(f\"Dice Score\\n{dice_score}\")\n",
    "print(np.average(dice_score, axis=0))\n"
   ],
   "metadata": {
    "collapsed": false,
    "pycharm": {
     "name": "#%%\n"
    }
   }
  },
  {
   "cell_type": "code",
   "execution_count": null,
   "outputs": [],
   "source": [],
   "metadata": {
    "collapsed": false,
    "pycharm": {
     "name": "#%%\n"
    }
   }
  }
 ],
 "metadata": {
  "kernelspec": {
   "display_name": "Python 3",
   "language": "python",
   "name": "python3"
  },
  "language_info": {
   "codemirror_mode": {
    "name": "ipython",
    "version": 2
   },
   "file_extension": ".py",
   "mimetype": "text/x-python",
   "name": "python",
   "nbconvert_exporter": "python",
   "pygments_lexer": "ipython2",
   "version": "2.7.6"
  }
 },
 "nbformat": 4,
 "nbformat_minor": 0
}